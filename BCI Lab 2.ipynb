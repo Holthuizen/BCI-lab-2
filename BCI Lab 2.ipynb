{
 "cells": [
  {
   "cell_type": "markdown",
   "id": "66c311ae",
   "metadata": {},
   "source": [
    "# BCI Lab 2: P300 evoked response"
   ]
  },
  {
   "cell_type": "code",
   "execution_count": null,
   "id": "4c400cd1",
   "metadata": {},
   "outputs": [],
   "source": [
    "# !pip install mne\n",
    "# !pip install PyQt6\n",
    "# !pip install PySide6\n",
    "# !pip install PyQt5\n",
    "# !pip install PySide2"
   ]
  },
  {
   "cell_type": "code",
   "execution_count": null,
   "id": "823a96c3",
   "metadata": {},
   "outputs": [],
   "source": [
    "import matplotlib.pyplot as plt\n",
    "import mne\n",
    "import numpy as np\n",
    "import pandas as pd\n",
    "import os\n",
    "%matplotlib qt"
   ]
  },
  {
   "cell_type": "markdown",
   "id": "4b9b0c99",
   "metadata": {},
   "source": [
    "## Loading data"
   ]
  },
  {
   "cell_type": "code",
   "execution_count": null,
   "id": "d242e813",
   "metadata": {},
   "outputs": [],
   "source": [
    "fname = \"P300_edf_format\\group_7_p300_calibration.edf\"\n",
    "\n",
    "# print(fname)\n",
    "raw = mne.io.read_raw_edf(fname, preload=True, verbose=False)\n"
   ]
  },
  {
   "cell_type": "code",
   "execution_count": null,
   "id": "356d86ca",
   "metadata": {},
   "outputs": [],
   "source": [
    "print(raw.info)\n",
    "print(raw.ch_names)"
   ]
  },
  {
   "cell_type": "code",
   "execution_count": null,
   "id": "54b4925f",
   "metadata": {},
   "outputs": [],
   "source": [
    "# for convienence we restrict to the relevant channels for a P300\n",
    "# ch_names=['Cz','C1','C2','Fz','F1','F2','Pz','P1', 'P2']\n",
    "ch_names=['Cz','C3','C4','FPz','FP1','FP2','Pz']\n",
    "raw.pick_channels(ch_names)\n",
    "# some channel names are not standard, so we need to rename these\n",
    "rename_dict={'FP1':'Fp1','FPz':'Fpz','FP2':'Fp2'}\n",
    "mne.rename_channels(raw.info,rename_dict)\n",
    "# for showing channel locations we need to set the montage (location) of channels\n",
    "montage=mne.channels.make_standard_montage(\"biosemi64\")\n",
    "montage.plot()\n",
    "raw.set_montage(montage)"
   ]
  },
  {
   "cell_type": "code",
   "execution_count": null,
   "id": "d4092d60",
   "metadata": {},
   "outputs": [],
   "source": [
    "raw.compute_psd(fmin=0.1,fmax=30).plot()"
   ]
  },
  {
   "cell_type": "code",
   "execution_count": null,
   "id": "d6091708",
   "metadata": {},
   "outputs": [],
   "source": [
    "events, event_dict = mne.events_from_annotations(raw)\n",
    "print(event_dict)\n",
    "print(events[:5])"
   ]
  },
  {
   "cell_type": "code",
   "execution_count": null,
   "id": "ede554f6",
   "metadata": {},
   "outputs": [],
   "source": [
    "event_dict = {\n",
    "     'non_target': 14,\n",
    "     'target': 20\n",
    "}\n",
    "# different for different users\n",
    "fig = mne.viz.plot_events(\n",
    "    events, event_id=event_dict, sfreq=raw.info[\"sfreq\"], first_samp=raw.first_samp\n",
    ")"
   ]
  },
  {
   "cell_type": "code",
   "execution_count": null,
   "id": "0ee1a667",
   "metadata": {},
   "outputs": [],
   "source": [
    "reject_criteria = dict(\n",
    "    eeg=150e-6,  # 150 µV\n",
    "    ) \n",
    "epochs = mne.Epochs(\n",
    "    raw,\n",
    "    events,\n",
    "    event_id=event_dict,\n",
    "    tmin=-0.2,\n",
    "    tmax=0.7,\n",
    "    baseline=(-0.1,0.0),\n",
    "    preload=True,\n",
    ")"
   ]
  },
  {
   "cell_type": "code",
   "execution_count": null,
   "id": "a9ebd734",
   "metadata": {},
   "outputs": [],
   "source": [
    "target_epochs = epochs[\"target\"]\n",
    "non_target_epochs=epochs[\"non_target\"]"
   ]
  },
  {
   "cell_type": "code",
   "execution_count": null,
   "id": "2026e3db",
   "metadata": {},
   "outputs": [],
   "source": [
    "target_evoked = target_epochs.average() # average over all target epochs.\n",
    "non_target_evoked = non_target_epochs.average()"
   ]
  },
  {
   "cell_type": "code",
   "execution_count": null,
   "id": "ef5d1288",
   "metadata": {},
   "outputs": [],
   "source": [
    "mne.viz.plot_compare_evokeds(\n",
    "    dict(target=target_evoked, non_target=non_target_evoked),\n",
    "    picks=[\"Cz\"],\n",
    "    legend=\"upper left\",\n",
    "    show_sensors=\"upper right\",\n",
    ")"
   ]
  },
  {
   "cell_type": "markdown",
   "id": "4f9986a1",
   "metadata": {},
   "source": [
    "### In the compare plot one sees a lot of high frequency oscillations. A bandpass filter could remove these. "
   ]
  },
  {
   "cell_type": "code",
   "execution_count": null,
   "id": "4ffb468b",
   "metadata": {},
   "outputs": [],
   "source": [
    "raw_copy=raw.copy()"
   ]
  },
  {
   "cell_type": "code",
   "execution_count": null,
   "id": "282a17b3",
   "metadata": {},
   "outputs": [],
   "source": [
    "raw_copy.filter(2,15)"
   ]
  },
  {
   "cell_type": "code",
   "execution_count": null,
   "id": "aa3dd27a",
   "metadata": {},
   "outputs": [],
   "source": [
    "epochs = mne.Epochs(\n",
    "    raw_copy,\n",
    "    events,\n",
    "    event_id=event_dict,\n",
    "    tmin=-0.2,\n",
    "    tmax=0.7,\n",
    "    baseline=(-0.1,0.0),\n",
    "    preload=True,\n",
    ")"
   ]
  },
  {
   "cell_type": "code",
   "execution_count": null,
   "id": "e83ac714",
   "metadata": {},
   "outputs": [],
   "source": [
    "target_epochs = epochs[\"target\"]\n",
    "non_target_epochs=epochs[\"non_target\"]\n",
    "target_evoked = target_epochs.average() # average over all target epochs.\n",
    "non_target_evoked = non_target_epochs.average()\n",
    "mne.viz.plot_compare_evokeds(\n",
    "    dict(target=target_evoked, non_target=non_target_evoked),\n",
    "    picks=[\"Cz\"],\n",
    "    legend=\"upper left\",\n",
    "    show_sensors=\"upper right\",\n",
    ")"
   ]
  },
  {
   "cell_type": "code",
   "execution_count": null,
   "id": "e50e9425",
   "metadata": {},
   "outputs": [],
   "source": [
    "target_evoked.plot_topomap(times=[0.0, 0.1, 0.2, 0.3, 0.4])"
   ]
  },
  {
   "cell_type": "code",
   "execution_count": null,
   "id": "088b4ec1",
   "metadata": {},
   "outputs": [],
   "source": [
    "non_target_evoked.plot_topomap(times=[0.0, 0.1, 0.2, 0.3, 0.4])"
   ]
  },
  {
   "cell_type": "code",
   "execution_count": null,
   "id": "c756e98c",
   "metadata": {},
   "outputs": [],
   "source": [
    "evoked_diff = mne.combine_evoked([target_evoked, non_target_evoked], weights=[1, -1])\n",
    "evoked_diff.plot_topo(color=\"r\", legend=False)"
   ]
  },
  {
   "cell_type": "code",
   "execution_count": null,
   "id": "ba893f41",
   "metadata": {},
   "outputs": [],
   "source": []
  }
 ],
 "metadata": {
  "jupytext": {
   "formats": "ipynb,py:hydrogen"
  },
  "kernelspec": {
   "display_name": "Python 3",
   "language": "python",
   "name": "python3"
  },
  "language_info": {
   "codemirror_mode": {
    "name": "ipython",
    "version": 3
   },
   "file_extension": ".py",
   "mimetype": "text/x-python",
   "name": "python",
   "nbconvert_exporter": "python",
   "pygments_lexer": "ipython3",
   "version": "3.11.9"
  }
 },
 "nbformat": 4,
 "nbformat_minor": 5
}
