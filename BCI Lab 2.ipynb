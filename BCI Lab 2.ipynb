{
 "cells": [
  {
   "cell_type": "markdown",
   "id": "66c311ae",
   "metadata": {},
   "source": [
    "# BCI Lab 2: P300 evoked response"
   ]
  },
  {
   "cell_type": "code",
   "execution_count": 6,
   "id": "4c400cd1",
   "metadata": {},
   "outputs": [],
   "source": [
    "# !pip install mne\n",
    "# !pip install PyQt6\n",
    "# !pip install PySide6\n",
    "# !pip install PyQt5\n",
    "# !pip install PySide2"
   ]
  },
  {
   "cell_type": "code",
   "execution_count": 7,
   "id": "823a96c3",
   "metadata": {},
   "outputs": [],
   "source": [
    "import matplotlib.pyplot as plt\n",
    "import mne\n",
    "import numpy as np\n",
    "import pandas as pd\n",
    "import os\n",
    "%matplotlib qt"
   ]
  },
  {
   "cell_type": "markdown",
   "id": "4b9b0c99",
   "metadata": {},
   "source": [
    "## Loading data"
   ]
  },
  {
   "cell_type": "code",
   "execution_count": 8,
   "id": "d242e813",
   "metadata": {},
   "outputs": [
    {
     "ename": "FileNotFoundError",
     "evalue": "[Errno 2] No such file or directory: 'C:\\\\Users\\\\mpoel\\\\surfdrive\\\\College\\\\BCI\\\\Data\\\\P300_AS\\\\NIBCI_P300_Raw\\\\P300_edf_format\\\\group_7_p300_calibration.edf'",
     "output_type": "error",
     "traceback": [
      "\u001b[1;31m---------------------------------------------------------------------------\u001b[0m",
      "\u001b[1;31mFileNotFoundError\u001b[0m                         Traceback (most recent call last)",
      "Cell \u001b[1;32mIn[8], line 5\u001b[0m\n\u001b[0;32m      2\u001b[0m fname \u001b[38;5;241m=\u001b[39m os\u001b[38;5;241m.\u001b[39mpath\u001b[38;5;241m.\u001b[39mjoin(data_path, \u001b[38;5;124m'\u001b[39m\u001b[38;5;124mUsers\u001b[39m\u001b[38;5;124m'\u001b[39m, \u001b[38;5;124m'\u001b[39m\u001b[38;5;124mmpoel\u001b[39m\u001b[38;5;124m'\u001b[39m,\u001b[38;5;124m'\u001b[39m\u001b[38;5;124msurfdrive\u001b[39m\u001b[38;5;124m'\u001b[39m,\u001b[38;5;124m'\u001b[39m\u001b[38;5;124mCollege\u001b[39m\u001b[38;5;124m'\u001b[39m,\u001b[38;5;124m'\u001b[39m\u001b[38;5;124mBCI\u001b[39m\u001b[38;5;124m'\u001b[39m,\u001b[38;5;124m'\u001b[39m\u001b[38;5;124mData\u001b[39m\u001b[38;5;124m'\u001b[39m, \u001b[38;5;124m'\u001b[39m\u001b[38;5;124mP300_AS\u001b[39m\u001b[38;5;124m'\u001b[39m, \u001b[38;5;124m'\u001b[39m\u001b[38;5;124mNIBCI_P300_Raw\u001b[39m\u001b[38;5;124m'\u001b[39m,\u001b[38;5;124m'\u001b[39m\u001b[38;5;124mP300_edf_format\u001b[39m\u001b[38;5;124m'\u001b[39m,\n\u001b[0;32m      3\u001b[0m                          \u001b[38;5;124m'\u001b[39m\u001b[38;5;124mgroup_7_p300_calibration.edf\u001b[39m\u001b[38;5;124m'\u001b[39m)\n\u001b[0;32m      4\u001b[0m \u001b[38;5;66;03m# print(fname)\u001b[39;00m\n\u001b[1;32m----> 5\u001b[0m raw \u001b[38;5;241m=\u001b[39m \u001b[43mmne\u001b[49m\u001b[38;5;241;43m.\u001b[39;49m\u001b[43mio\u001b[49m\u001b[38;5;241;43m.\u001b[39;49m\u001b[43mread_raw_edf\u001b[49m\u001b[43m(\u001b[49m\u001b[43mfname\u001b[49m\u001b[43m,\u001b[49m\u001b[43m \u001b[49m\u001b[43mpreload\u001b[49m\u001b[38;5;241;43m=\u001b[39;49m\u001b[38;5;28;43;01mTrue\u001b[39;49;00m\u001b[43m,\u001b[49m\u001b[43m \u001b[49m\u001b[43mverbose\u001b[49m\u001b[38;5;241;43m=\u001b[39;49m\u001b[38;5;28;43;01mFalse\u001b[39;49;00m\u001b[43m)\u001b[49m\n",
      "File \u001b[1;32mc:\\Users\\cedric\\AppData\\Local\\Programs\\Python\\Python311\\Lib\\site-packages\\mne\\io\\edf\\edf.py:1699\u001b[0m, in \u001b[0;36mread_raw_edf\u001b[1;34m(input_fname, eog, misc, stim_channel, exclude, infer_types, include, preload, units, encoding, exclude_after_unique, verbose)\u001b[0m\n\u001b[0;32m   1697\u001b[0m \u001b[38;5;28;01mif\u001b[39;00m ext \u001b[38;5;241m!=\u001b[39m \u001b[38;5;124m\"\u001b[39m\u001b[38;5;124medf\u001b[39m\u001b[38;5;124m\"\u001b[39m:\n\u001b[0;32m   1698\u001b[0m     \u001b[38;5;28;01mraise\u001b[39;00m \u001b[38;5;167;01mNotImplementedError\u001b[39;00m(\u001b[38;5;124mf\u001b[39m\u001b[38;5;124m\"\u001b[39m\u001b[38;5;124mOnly EDF files are supported, got \u001b[39m\u001b[38;5;132;01m{\u001b[39;00mext\u001b[38;5;132;01m}\u001b[39;00m\u001b[38;5;124m.\u001b[39m\u001b[38;5;124m\"\u001b[39m)\n\u001b[1;32m-> 1699\u001b[0m \u001b[38;5;28;01mreturn\u001b[39;00m \u001b[43mRawEDF\u001b[49m\u001b[43m(\u001b[49m\n\u001b[0;32m   1700\u001b[0m \u001b[43m    \u001b[49m\u001b[43minput_fname\u001b[49m\u001b[38;5;241;43m=\u001b[39;49m\u001b[43minput_fname\u001b[49m\u001b[43m,\u001b[49m\n\u001b[0;32m   1701\u001b[0m \u001b[43m    \u001b[49m\u001b[43meog\u001b[49m\u001b[38;5;241;43m=\u001b[39;49m\u001b[43meog\u001b[49m\u001b[43m,\u001b[49m\n\u001b[0;32m   1702\u001b[0m \u001b[43m    \u001b[49m\u001b[43mmisc\u001b[49m\u001b[38;5;241;43m=\u001b[39;49m\u001b[43mmisc\u001b[49m\u001b[43m,\u001b[49m\n\u001b[0;32m   1703\u001b[0m \u001b[43m    \u001b[49m\u001b[43mstim_channel\u001b[49m\u001b[38;5;241;43m=\u001b[39;49m\u001b[43mstim_channel\u001b[49m\u001b[43m,\u001b[49m\n\u001b[0;32m   1704\u001b[0m \u001b[43m    \u001b[49m\u001b[43mexclude\u001b[49m\u001b[38;5;241;43m=\u001b[39;49m\u001b[43mexclude\u001b[49m\u001b[43m,\u001b[49m\n\u001b[0;32m   1705\u001b[0m \u001b[43m    \u001b[49m\u001b[43minfer_types\u001b[49m\u001b[38;5;241;43m=\u001b[39;49m\u001b[43minfer_types\u001b[49m\u001b[43m,\u001b[49m\n\u001b[0;32m   1706\u001b[0m \u001b[43m    \u001b[49m\u001b[43mpreload\u001b[49m\u001b[38;5;241;43m=\u001b[39;49m\u001b[43mpreload\u001b[49m\u001b[43m,\u001b[49m\n\u001b[0;32m   1707\u001b[0m \u001b[43m    \u001b[49m\u001b[43minclude\u001b[49m\u001b[38;5;241;43m=\u001b[39;49m\u001b[43minclude\u001b[49m\u001b[43m,\u001b[49m\n\u001b[0;32m   1708\u001b[0m \u001b[43m    \u001b[49m\u001b[43munits\u001b[49m\u001b[38;5;241;43m=\u001b[39;49m\u001b[43munits\u001b[49m\u001b[43m,\u001b[49m\n\u001b[0;32m   1709\u001b[0m \u001b[43m    \u001b[49m\u001b[43mencoding\u001b[49m\u001b[38;5;241;43m=\u001b[39;49m\u001b[43mencoding\u001b[49m\u001b[43m,\u001b[49m\n\u001b[0;32m   1710\u001b[0m \u001b[43m    \u001b[49m\u001b[43mexclude_after_unique\u001b[49m\u001b[38;5;241;43m=\u001b[39;49m\u001b[43mexclude_after_unique\u001b[49m\u001b[43m,\u001b[49m\n\u001b[0;32m   1711\u001b[0m \u001b[43m    \u001b[49m\u001b[43mverbose\u001b[49m\u001b[38;5;241;43m=\u001b[39;49m\u001b[43mverbose\u001b[49m\u001b[43m,\u001b[49m\n\u001b[0;32m   1712\u001b[0m \u001b[43m\u001b[49m\u001b[43m)\u001b[49m\n",
      "File \u001b[1;32m<decorator-gen-204>:10\u001b[0m, in \u001b[0;36m__init__\u001b[1;34m(self, input_fname, eog, misc, stim_channel, exclude, infer_types, preload, include, units, encoding, exclude_after_unique, verbose)\u001b[0m\n",
      "File \u001b[1;32mc:\\Users\\cedric\\AppData\\Local\\Programs\\Python\\Python311\\Lib\\site-packages\\mne\\io\\edf\\edf.py:152\u001b[0m, in \u001b[0;36mRawEDF.__init__\u001b[1;34m(self, input_fname, eog, misc, stim_channel, exclude, infer_types, preload, include, units, encoding, exclude_after_unique, verbose)\u001b[0m\n\u001b[0;32m    150\u001b[0m logger\u001b[38;5;241m.\u001b[39minfo(\u001b[38;5;124mf\u001b[39m\u001b[38;5;124m\"\u001b[39m\u001b[38;5;124mExtracting EDF parameters from \u001b[39m\u001b[38;5;132;01m{\u001b[39;00minput_fname\u001b[38;5;132;01m}\u001b[39;00m\u001b[38;5;124m...\u001b[39m\u001b[38;5;124m\"\u001b[39m)\n\u001b[0;32m    151\u001b[0m input_fname \u001b[38;5;241m=\u001b[39m os\u001b[38;5;241m.\u001b[39mpath\u001b[38;5;241m.\u001b[39mabspath(input_fname)\n\u001b[1;32m--> 152\u001b[0m info, edf_info, orig_units \u001b[38;5;241m=\u001b[39m \u001b[43m_get_info\u001b[49m\u001b[43m(\u001b[49m\n\u001b[0;32m    153\u001b[0m \u001b[43m    \u001b[49m\u001b[43minput_fname\u001b[49m\u001b[43m,\u001b[49m\n\u001b[0;32m    154\u001b[0m \u001b[43m    \u001b[49m\u001b[43mstim_channel\u001b[49m\u001b[43m,\u001b[49m\n\u001b[0;32m    155\u001b[0m \u001b[43m    \u001b[49m\u001b[43meog\u001b[49m\u001b[43m,\u001b[49m\n\u001b[0;32m    156\u001b[0m \u001b[43m    \u001b[49m\u001b[43mmisc\u001b[49m\u001b[43m,\u001b[49m\n\u001b[0;32m    157\u001b[0m \u001b[43m    \u001b[49m\u001b[43mexclude\u001b[49m\u001b[43m,\u001b[49m\n\u001b[0;32m    158\u001b[0m \u001b[43m    \u001b[49m\u001b[43minfer_types\u001b[49m\u001b[43m,\u001b[49m\n\u001b[0;32m    159\u001b[0m \u001b[43m    \u001b[49m\u001b[43mpreload\u001b[49m\u001b[43m,\u001b[49m\n\u001b[0;32m    160\u001b[0m \u001b[43m    \u001b[49m\u001b[43minclude\u001b[49m\u001b[43m,\u001b[49m\n\u001b[0;32m    161\u001b[0m \u001b[43m    \u001b[49m\u001b[43mexclude_after_unique\u001b[49m\u001b[43m,\u001b[49m\n\u001b[0;32m    162\u001b[0m \u001b[43m\u001b[49m\u001b[43m)\u001b[49m\n\u001b[0;32m    163\u001b[0m logger\u001b[38;5;241m.\u001b[39minfo(\u001b[38;5;124m\"\u001b[39m\u001b[38;5;124mCreating raw.info structure...\u001b[39m\u001b[38;5;124m\"\u001b[39m)\n\u001b[0;32m    165\u001b[0m _validate_type(units, (\u001b[38;5;28mstr\u001b[39m, \u001b[38;5;28;01mNone\u001b[39;00m, \u001b[38;5;28mdict\u001b[39m), \u001b[38;5;124m\"\u001b[39m\u001b[38;5;124munits\u001b[39m\u001b[38;5;124m\"\u001b[39m)\n",
      "File \u001b[1;32mc:\\Users\\cedric\\AppData\\Local\\Programs\\Python\\Python311\\Lib\\site-packages\\mne\\io\\edf\\edf.py:538\u001b[0m, in \u001b[0;36m_get_info\u001b[1;34m(fname, stim_channel, eog, misc, exclude, infer_types, preload, include, exclude_after_unique)\u001b[0m\n\u001b[0;32m    535\u001b[0m eog \u001b[38;5;241m=\u001b[39m eog \u001b[38;5;28;01mif\u001b[39;00m eog \u001b[38;5;129;01mis\u001b[39;00m \u001b[38;5;129;01mnot\u001b[39;00m \u001b[38;5;28;01mNone\u001b[39;00m \u001b[38;5;28;01melse\u001b[39;00m []\n\u001b[0;32m    536\u001b[0m misc \u001b[38;5;241m=\u001b[39m misc \u001b[38;5;28;01mif\u001b[39;00m misc \u001b[38;5;129;01mis\u001b[39;00m \u001b[38;5;129;01mnot\u001b[39;00m \u001b[38;5;28;01mNone\u001b[39;00m \u001b[38;5;28;01melse\u001b[39;00m []\n\u001b[1;32m--> 538\u001b[0m edf_info, orig_units \u001b[38;5;241m=\u001b[39m \u001b[43m_read_header\u001b[49m\u001b[43m(\u001b[49m\n\u001b[0;32m    539\u001b[0m \u001b[43m    \u001b[49m\u001b[43mfname\u001b[49m\u001b[43m,\u001b[49m\u001b[43m \u001b[49m\u001b[43mexclude\u001b[49m\u001b[43m,\u001b[49m\u001b[43m \u001b[49m\u001b[43minfer_types\u001b[49m\u001b[43m,\u001b[49m\u001b[43m \u001b[49m\u001b[43minclude\u001b[49m\u001b[43m,\u001b[49m\u001b[43m \u001b[49m\u001b[43mexclude_after_unique\u001b[49m\n\u001b[0;32m    540\u001b[0m \u001b[43m\u001b[49m\u001b[43m)\u001b[49m\n\u001b[0;32m    542\u001b[0m \u001b[38;5;66;03m# XXX: `tal_ch_names` to pass to `_check_stim_channel` should be computed\u001b[39;00m\n\u001b[0;32m    543\u001b[0m \u001b[38;5;66;03m#      from `edf_info['ch_names']` and `edf_info['tal_idx']` but 'tal_idx'\u001b[39;00m\n\u001b[0;32m    544\u001b[0m \u001b[38;5;66;03m#      contains stim channels that are not TAL.\u001b[39;00m\n\u001b[0;32m    545\u001b[0m stim_channel_idxs, _ \u001b[38;5;241m=\u001b[39m _check_stim_channel(stim_channel, edf_info[\u001b[38;5;124m\"\u001b[39m\u001b[38;5;124mch_names\u001b[39m\u001b[38;5;124m\"\u001b[39m])\n",
      "File \u001b[1;32mc:\\Users\\cedric\\AppData\\Local\\Programs\\Python\\Python311\\Lib\\site-packages\\mne\\io\\edf\\edf.py:512\u001b[0m, in \u001b[0;36m_read_header\u001b[1;34m(fname, exclude, infer_types, include, exclude_after_unique)\u001b[0m\n\u001b[0;32m    510\u001b[0m logger\u001b[38;5;241m.\u001b[39minfo(\u001b[38;5;124mf\u001b[39m\u001b[38;5;124m\"\u001b[39m\u001b[38;5;132;01m{\u001b[39;00mext\u001b[38;5;241m.\u001b[39mupper()\u001b[38;5;132;01m}\u001b[39;00m\u001b[38;5;124m file detected\u001b[39m\u001b[38;5;124m\"\u001b[39m)\n\u001b[0;32m    511\u001b[0m \u001b[38;5;28;01mif\u001b[39;00m ext \u001b[38;5;129;01min\u001b[39;00m (\u001b[38;5;124m\"\u001b[39m\u001b[38;5;124mbdf\u001b[39m\u001b[38;5;124m\"\u001b[39m, \u001b[38;5;124m\"\u001b[39m\u001b[38;5;124medf\u001b[39m\u001b[38;5;124m\"\u001b[39m):\n\u001b[1;32m--> 512\u001b[0m     \u001b[38;5;28;01mreturn\u001b[39;00m \u001b[43m_read_edf_header\u001b[49m\u001b[43m(\u001b[49m\n\u001b[0;32m    513\u001b[0m \u001b[43m        \u001b[49m\u001b[43mfname\u001b[49m\u001b[43m,\u001b[49m\u001b[43m \u001b[49m\u001b[43mexclude\u001b[49m\u001b[43m,\u001b[49m\u001b[43m \u001b[49m\u001b[43minfer_types\u001b[49m\u001b[43m,\u001b[49m\u001b[43m \u001b[49m\u001b[43minclude\u001b[49m\u001b[43m,\u001b[49m\u001b[43m \u001b[49m\u001b[43mexclude_after_unique\u001b[49m\n\u001b[0;32m    514\u001b[0m \u001b[43m    \u001b[49m\u001b[43m)\u001b[49m\n\u001b[0;32m    515\u001b[0m \u001b[38;5;28;01melif\u001b[39;00m ext \u001b[38;5;241m==\u001b[39m \u001b[38;5;124m\"\u001b[39m\u001b[38;5;124mgdf\u001b[39m\u001b[38;5;124m\"\u001b[39m:\n\u001b[0;32m    516\u001b[0m     \u001b[38;5;28;01mreturn\u001b[39;00m _read_gdf_header(fname, exclude, include), \u001b[38;5;28;01mNone\u001b[39;00m\n",
      "File \u001b[1;32mc:\\Users\\cedric\\AppData\\Local\\Programs\\Python\\Python311\\Lib\\site-packages\\mne\\io\\edf\\edf.py:806\u001b[0m, in \u001b[0;36m_read_edf_header\u001b[1;34m(fname, exclude, infer_types, include, exclude_after_unique)\u001b[0m\n\u001b[0;32m    803\u001b[0m \u001b[38;5;250m\u001b[39m\u001b[38;5;124;03m\"\"\"Read header information from EDF+ or BDF file.\"\"\"\u001b[39;00m\n\u001b[0;32m    804\u001b[0m edf_info \u001b[38;5;241m=\u001b[39m {\u001b[38;5;124m\"\u001b[39m\u001b[38;5;124mevents\u001b[39m\u001b[38;5;124m\"\u001b[39m: []}\n\u001b[1;32m--> 806\u001b[0m \u001b[38;5;28;01mwith\u001b[39;00m \u001b[38;5;28;43mopen\u001b[39;49m\u001b[43m(\u001b[49m\u001b[43mfname\u001b[49m\u001b[43m,\u001b[49m\u001b[43m \u001b[49m\u001b[38;5;124;43m\"\u001b[39;49m\u001b[38;5;124;43mrb\u001b[39;49m\u001b[38;5;124;43m\"\u001b[39;49m\u001b[43m)\u001b[49m \u001b[38;5;28;01mas\u001b[39;00m fid:\n\u001b[0;32m    807\u001b[0m     fid\u001b[38;5;241m.\u001b[39mread(\u001b[38;5;241m8\u001b[39m)  \u001b[38;5;66;03m# version (unused here)\u001b[39;00m\n\u001b[0;32m    809\u001b[0m     \u001b[38;5;66;03m# patient ID\u001b[39;00m\n",
      "\u001b[1;31mFileNotFoundError\u001b[0m: [Errno 2] No such file or directory: 'C:\\\\Users\\\\mpoel\\\\surfdrive\\\\College\\\\BCI\\\\Data\\\\P300_AS\\\\NIBCI_P300_Raw\\\\P300_edf_format\\\\group_7_p300_calibration.edf'"
     ]
    }
   ],
   "source": [
    "data_path = \"C:\\\\\"\n",
    "fname = os.path.join(data_path, 'Users', 'mpoel','surfdrive','College','BCI','Data', 'P300_AS', 'NIBCI_P300_Raw','P300_edf_format',\n",
    "                         'group_7_p300_calibration.edf')\n",
    "# print(fname)\n",
    "raw = mne.io.read_raw_edf(fname, preload=True, verbose=False)\n"
   ]
  },
  {
   "cell_type": "code",
   "execution_count": null,
   "id": "356d86ca",
   "metadata": {},
   "outputs": [],
   "source": [
    "print(raw.info)\n",
    "print(raw.ch_names)"
   ]
  },
  {
   "cell_type": "code",
   "execution_count": null,
   "id": "54b4925f",
   "metadata": {},
   "outputs": [],
   "source": [
    "# for convienence we restrict to the relevant channels for a P300\n",
    "# ch_names=['Cz','C1','C2','Fz','F1','F2','Pz','P1', 'P2']\n",
    "ch_names=['Cz','C3','C4','FPz','FP1','FP2','Pz']\n",
    "raw.pick_channels(ch_names)\n",
    "# some channel names are not standard, so we need to rename these\n",
    "rename_dict={'FP1':'Fp1','FPz':'Fpz','FP2':'Fp2'}\n",
    "mne.rename_channels(raw.info,rename_dict)\n",
    "# for showing channel locations we need to set the montage (location) of channels\n",
    "montage=mne.channels.make_standard_montage(\"biosemi64\")\n",
    "montage.plot()\n",
    "raw.set_montage(montage)"
   ]
  },
  {
   "cell_type": "code",
   "execution_count": null,
   "id": "d4092d60",
   "metadata": {},
   "outputs": [],
   "source": [
    "raw.compute_psd(fmin=0.1,fmax=30).plot()"
   ]
  },
  {
   "cell_type": "code",
   "execution_count": null,
   "id": "d6091708",
   "metadata": {},
   "outputs": [],
   "source": [
    "events, event_dict = mne.events_from_annotations(raw)\n",
    "print(event_dict)\n",
    "print(events[:5])"
   ]
  },
  {
   "cell_type": "code",
   "execution_count": null,
   "id": "ede554f6",
   "metadata": {},
   "outputs": [],
   "source": [
    "event_dict = {\n",
    "     'non_target': 14,\n",
    "     'target': 20\n",
    "}\n",
    "# different for different users\n",
    "fig = mne.viz.plot_events(\n",
    "    events, event_id=event_dict, sfreq=raw.info[\"sfreq\"], first_samp=raw.first_samp\n",
    ")"
   ]
  },
  {
   "cell_type": "code",
   "execution_count": null,
   "id": "0ee1a667",
   "metadata": {},
   "outputs": [],
   "source": [
    "reject_criteria = dict(\n",
    "    eeg=150e-6,  # 150 µV\n",
    "    ) \n",
    "epochs = mne.Epochs(\n",
    "    raw,\n",
    "    events,\n",
    "    event_id=event_dict,\n",
    "    tmin=-0.2,\n",
    "    tmax=0.7,\n",
    "    baseline=(-0.1,0.0),\n",
    "    preload=True,\n",
    ")"
   ]
  },
  {
   "cell_type": "code",
   "execution_count": null,
   "id": "a9ebd734",
   "metadata": {},
   "outputs": [],
   "source": [
    "target_epochs = epochs[\"target\"]\n",
    "non_target_epochs=epochs[\"non_target\"]"
   ]
  },
  {
   "cell_type": "code",
   "execution_count": null,
   "id": "2026e3db",
   "metadata": {},
   "outputs": [],
   "source": [
    "target_evoked = target_epochs.average() # average over all target epochs.\n",
    "non_target_evoked = non_target_epochs.average()"
   ]
  },
  {
   "cell_type": "code",
   "execution_count": null,
   "id": "ef5d1288",
   "metadata": {},
   "outputs": [],
   "source": [
    "mne.viz.plot_compare_evokeds(\n",
    "    dict(target=target_evoked, non_target=non_target_evoked),\n",
    "    picks=[\"Cz\"],\n",
    "    legend=\"upper left\",\n",
    "    show_sensors=\"upper right\",\n",
    ")"
   ]
  },
  {
   "cell_type": "markdown",
   "id": "4f9986a1",
   "metadata": {},
   "source": [
    "### In the compare plot one sees a lot of high frequency oscillations. A bandpass filter could remove these. "
   ]
  },
  {
   "cell_type": "code",
   "execution_count": null,
   "id": "4ffb468b",
   "metadata": {},
   "outputs": [],
   "source": [
    "raw_copy=raw.copy()"
   ]
  },
  {
   "cell_type": "code",
   "execution_count": null,
   "id": "282a17b3",
   "metadata": {},
   "outputs": [],
   "source": [
    "raw_copy.filter(2,15)"
   ]
  },
  {
   "cell_type": "code",
   "execution_count": null,
   "id": "aa3dd27a",
   "metadata": {},
   "outputs": [],
   "source": [
    "epochs = mne.Epochs(\n",
    "    raw_copy,\n",
    "    events,\n",
    "    event_id=event_dict,\n",
    "    tmin=-0.2,\n",
    "    tmax=0.7,\n",
    "    baseline=(-0.1,0.0),\n",
    "    preload=True,\n",
    ")"
   ]
  },
  {
   "cell_type": "code",
   "execution_count": null,
   "id": "e83ac714",
   "metadata": {},
   "outputs": [],
   "source": [
    "target_epochs = epochs[\"target\"]\n",
    "non_target_epochs=epochs[\"non_target\"]\n",
    "target_evoked = target_epochs.average() # average over all target epochs.\n",
    "non_target_evoked = non_target_epochs.average()\n",
    "mne.viz.plot_compare_evokeds(\n",
    "    dict(target=target_evoked, non_target=non_target_evoked),\n",
    "    picks=[\"Cz\"],\n",
    "    legend=\"upper left\",\n",
    "    show_sensors=\"upper right\",\n",
    ")"
   ]
  },
  {
   "cell_type": "code",
   "execution_count": null,
   "id": "e50e9425",
   "metadata": {},
   "outputs": [],
   "source": [
    "target_evoked.plot_topomap(times=[0.0, 0.1, 0.2, 0.3, 0.4])"
   ]
  },
  {
   "cell_type": "code",
   "execution_count": null,
   "id": "088b4ec1",
   "metadata": {},
   "outputs": [],
   "source": [
    "non_target_evoked.plot_topomap(times=[0.0, 0.1, 0.2, 0.3, 0.4])"
   ]
  },
  {
   "cell_type": "code",
   "execution_count": null,
   "id": "c756e98c",
   "metadata": {},
   "outputs": [],
   "source": [
    "evoked_diff = mne.combine_evoked([target_evoked, non_target_evoked], weights=[1, -1])\n",
    "evoked_diff.plot_topo(color=\"r\", legend=False)"
   ]
  },
  {
   "cell_type": "code",
   "execution_count": null,
   "id": "ba893f41",
   "metadata": {},
   "outputs": [],
   "source": []
  }
 ],
 "metadata": {
  "kernelspec": {
   "display_name": "Python 3",
   "language": "python",
   "name": "python3"
  },
  "language_info": {
   "codemirror_mode": {
    "name": "ipython",
    "version": 3
   },
   "file_extension": ".py",
   "mimetype": "text/x-python",
   "name": "python",
   "nbconvert_exporter": "python",
   "pygments_lexer": "ipython3",
   "version": "3.11.9"
  }
 },
 "nbformat": 4,
 "nbformat_minor": 5
}
