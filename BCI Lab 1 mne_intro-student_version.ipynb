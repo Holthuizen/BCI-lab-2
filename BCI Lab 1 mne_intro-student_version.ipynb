{
 "cells": [
  {
   "cell_type": "markdown",
   "metadata": {},
   "source": [
    "\n",
    "\n",
    "# Overview of EEG analysis with MNE-Python\n",
    "\n",
    "This tutorial covers the basic EEG pipeline for event-related analysis:\n",
    "loading data, epoching, averaging, plotting, and estimating cortical activity\n",
    "from sensor data. It introduces the core MNE-Python data structures\n",
    "`~mne.io.Raw`, `~mne.Epochs` and `~mne.Evoked` and covers a lot of ground fairly quickly (at the expense of depth). \n",
    "\n",
    "We begin by importing the necessary Python modules:\n"
   ]
  },
  {
   "cell_type": "code",
   "execution_count": null,
   "metadata": {},
   "outputs": [],
   "source": [
    "import numpy as np\n",
    "import mne\n",
    "import matplotlib.pyplot as plt\n",
    "%matplotlib qt"
   ]
  },
  {
   "cell_type": "markdown",
   "metadata": {},
   "source": [
    "## Loading data\n",
    "\n",
    "MNE-Python data structures are based around the FIF file format from\n",
    "Neuromag, but there are reader functions for `a wide variety of other\n",
    "data formats <data-formats>`. MNE-Python also has interfaces to a\n",
    "variety of `publicly available datasets <datasets>`, which MNE-Python\n",
    "can download and manage for you.\n",
    "\n",
    "We'll start this tutorial by loading one of the example datasets (called\n",
    "\"`sample-dataset`\"), which contains EEG and MEG data from one subject\n",
    "performing an audiovisual experiment, along with structural MRI scans for\n",
    "that subject. The `mne.datasets.sample.data_path` function will automatically\n",
    "download the dataset if it isn't found in one of the expected locations, then\n",
    "return the directory path to the dataset (see the documentation of\n",
    "`~mne.datasets.sample.data_path` for a list of places it checks before\n",
    "downloading). Note also that for this tutorial to run smoothly on our\n",
    "servers, we're using a filtered and downsampled version of the data\n",
    "(:file:`sample_audvis_filt-0-40_raw.fif`), but an unfiltered version\n",
    "(:file:`sample_audvis_raw.fif`) is also included in the sample dataset and\n",
    "could be substituted here when running the tutorial locally.\n",
    "### For this Lab we will only look at EEG data!\n"
   ]
  },
  {
   "cell_type": "code",
   "execution_count": null,
   "metadata": {},
   "outputs": [],
   "source": [
    "sample_data_folder = mne.datasets.sample.data_path()\n",
    "sample_data_raw_file = (\n",
    "    sample_data_folder / \"MEG\" / \"sample\" / \"sample_audvis_filt-0-40_raw.fif\"\n",
    ")\n",
    "raw = mne.io.read_raw_fif(sample_data_raw_file).pick_types(eeg=True, stim=True)\n",
    "# Stimulus channels are used for detecting when an event starts (or ends) aka markers"
   ]
  },
  {
   "cell_type": "markdown",
   "metadata": {},
   "source": [
    "By default, `~mne.io.read_raw_fif` displays some information about the file\n",
    "it's loading; for example, here it tells us that there are four \"projection\n",
    "items\" in the file along with the recorded data; those are :term:`SSP\n",
    "projectors <projector>` calculated to remove environmental noise from the MEG\n",
    "signals, plus a projector to mean-reference the EEG channels; these are\n",
    "discussed in the tutorial `tut-projectors-background`. In addition to\n",
    "the information displayed during loading, you can get a glimpse of the basic\n",
    "details of a `~mne.io.Raw` object by printing it; even more is available by\n",
    "printing its ``info`` attribute (a `dictionary-like object <mne.Info>` that\n",
    "is preserved across `~mne.io.Raw`, `~mne.Epochs`, and `~mne.Evoked` objects).\n",
    "The ``info`` data structure keeps track of channel locations, applied\n",
    "filters, projectors, etc. Notice especially the ``chs`` entry, showing that\n",
    "MNE-Python detects different sensor types and handles each appropriately. See\n",
    "`tut-info-class` for more on the `~mne.Info` class.\n",
    "\n"
   ]
  },
  {
   "cell_type": "code",
   "execution_count": null,
   "metadata": {},
   "outputs": [],
   "source": [
    "print(raw)\n",
    "print(raw.info)\n",
    "print(raw.info.ch_names)"
   ]
  },
  {
   "cell_type": "code",
   "execution_count": null,
   "metadata": {},
   "outputs": [],
   "source": [
    "# Plotting the topomap of the channels\n",
    "raw.plot_sensors(show_names=True)"
   ]
  },
  {
   "cell_type": "markdown",
   "metadata": {},
   "source": [
    "## Some visualizations of the EEG and the corresponding frequency plots."
   ]
  },
  {
   "cell_type": "markdown",
   "metadata": {},
   "source": [
    "`~mne.io.Raw` objects also have several built-in plotting methods; here we\n",
    "show the power spectral density (PSD) for each sensor type with\n",
    "`~mne.io.Raw.compute_psd`, as well as a plot of the raw sensor traces with\n",
    "`~mne.io.Raw.plot`. In the PSD plot, we'll only plot frequencies below 50 Hz\n",
    "(since our data are low-pass filtered at 40 Hz). In interactive Python\n",
    "sessions, `~mne.io.Raw.plot` is interactive and allows scrolling, scaling,\n",
    "bad channel marking, annotations, projector toggling, etc.\n",
    "\n"
   ]
  },
  {
   "cell_type": "code",
   "execution_count": null,
   "metadata": {},
   "outputs": [],
   "source": [
    "raw.plot(duration=5, n_channels=10) # picking the first 10 channnels, one can also use pick channels to pick specific channels.\n",
    "raw.compute_psd(fmax=50).plot(picks=\"eeg\")"
   ]
  },
  {
   "cell_type": "markdown",
   "metadata": {},
   "source": [
    "\n",
    "## Detecting experimental events\n",
    "\n",
    "The sample dataset includes several :term:`\"STIM\" channels <stim channel>`\n",
    "that recorded electrical signals sent from the stimulus delivery computer (as\n",
    "brief DC shifts / squarewave pulses). These pulses (often called \"triggers\")\n",
    "are used in this dataset to mark experimental events: stimulus onset,\n",
    "stimulus type, and participant response (button press). The individual STIM\n",
    "channels are combined onto a single channel, in such a way that voltage\n",
    "levels on that channel can be unambiguously decoded as a particular event\n",
    "type. On older Neuromag systems (such as that used to record the sample data)\n",
    "this summation channel was called ``STI 014``, so we can pass that channel\n",
    "name to the `mne.find_events` function to recover the timing and identity of\n",
    "the stimulus events.\n",
    "\n"
   ]
  },
  {
   "cell_type": "code",
   "execution_count": null,
   "metadata": {},
   "outputs": [],
   "source": [
    "events = mne.find_events(raw, stim_channel=\"STI 014\")\n",
    "print(events[:5])  # show the first 5"
   ]
  },
  {
   "cell_type": "markdown",
   "metadata": {},
   "source": [
    "The resulting events array is an ordinary 3-column :class:`NumPy array\n",
    "<numpy.ndarray>`, with sample number in the first column and integer event ID\n",
    "in the last column; the middle column is usually ignored. Rather than keeping\n",
    "track of integer event IDs, we can provide an *event dictionary* that maps\n",
    "the integer IDs to experimental conditions or events. In this dataset, the\n",
    "mapping looks like this:\n",
    "\n",
    "\n",
    "+----------+----------------------------------------------------------+\n",
    "| Event ID | Condition                                                |\n",
    "+==========+==========================================================+\n",
    "| 1        | auditory stimulus (tone) to the left ear                 |\n",
    "+----------+----------------------------------------------------------+\n",
    "| 2        | auditory stimulus (tone) to the right ear                |\n",
    "+----------+----------------------------------------------------------+\n",
    "| 3        | visual stimulus (checkerboard) to the left visual field  |\n",
    "+----------+----------------------------------------------------------+\n",
    "| 4        | visual stimulus (checkerboard) to the right visual field |\n",
    "+----------+----------------------------------------------------------+\n",
    "| 5        | smiley face (catch trial)                                |\n",
    "+----------+----------------------------------------------------------+\n",
    "| 32       | subject button press                                     |\n",
    "+----------+----------------------------------------------------------+\n",
    "\n"
   ]
  },
  {
   "cell_type": "code",
   "execution_count": null,
   "metadata": {},
   "outputs": [],
   "source": [
    "event_dict = {\n",
    "    \"auditory/left\": 1,\n",
    "    \"auditory/right\": 2,\n",
    "    \"visual/left\": 3,\n",
    "    \"visual/right\": 4,\n",
    "    \"smiley\": 5,\n",
    "    \"buttonpress\": 32,\n",
    "}"
   ]
  },
  {
   "cell_type": "markdown",
   "metadata": {},
   "source": [
    "Event dictionaries like this one are used when extracting epochs from\n",
    "continuous data; the ``/`` character in the dictionary keys allows pooling\n",
    "across conditions by requesting partial condition descriptors (i.e.,\n",
    "requesting ``'auditory'`` will select all epochs with Event IDs 1 and 2;\n",
    "requesting ``'left'`` will select all epochs with Event IDs 1 and 3). An\n",
    "example of this is shown in the next section. There is also a convenient\n",
    "`~mne.viz.plot_events` function for visualizing the distribution of events\n",
    "across the duration of the recording (to make sure event detection worked as\n",
    "expected). Here we'll also make use of the `~mne.Info` attribute to get the\n",
    "sampling frequency of the recording (so our x-axis will be in seconds instead\n",
    "of in samples).\n",
    "\n"
   ]
  },
  {
   "cell_type": "code",
   "execution_count": null,
   "metadata": {},
   "outputs": [],
   "source": [
    "fig = mne.viz.plot_events(\n",
    "    events, event_id=event_dict, sfreq=raw.info[\"sfreq\"], first_samp=raw.first_samp\n",
    ")"
   ]
  },
  {
   "cell_type": "markdown",
   "metadata": {},
   "source": [
    "For paradigms that are not event-related (e.g., analysis of resting-state\n",
    "data), you can extract regularly spaced (possibly overlapping) spans of data\n",
    "by creating events using `mne.make_fixed_length_events` and then proceeding\n",
    "with epoching as described in the next section.\n",
    "\n",
    "\n",
    "\n",
    "## Epoching continuous data\n",
    "\n",
    "The `~mne.io.Raw` object and the events array are the bare minimum needed to\n",
    "create an `~mne.Epochs` object, which we create with the `~mne.Epochs` class\n",
    "constructor. Here we'll also specify some data quality constraints: we'll\n",
    "reject any epoch where peak-to-peak signal amplitude is beyond reasonable\n",
    "limits for that channel type. This is done with a *rejection dictionary*; you\n",
    "may include or omit thresholds for any of the channel types present in your\n",
    "data. The values given here are reasonable for this particular dataset, but\n",
    "may need to be adapted for different hardware or recording conditions. For a\n",
    "more automated approach, consider using the `autoreject package`_.\n",
    "\n"
   ]
  },
  {
   "cell_type": "code",
   "execution_count": null,
   "metadata": {},
   "outputs": [],
   "source": [
    "reject_criteria = dict(\n",
    "    eeg=150e-6,  # 150 µV\n",
    "    ) "
   ]
  },
  {
   "cell_type": "markdown",
   "metadata": {},
   "source": [
    "We'll also pass the event dictionary as the ``event_id`` parameter (so we can\n",
    "work with easy-to-pool event labels instead of the integer event IDs), and\n",
    "specify ``tmin`` and ``tmax`` (the time relative to each event at which to\n",
    "start and end each epoch). As mentioned above, by default `~mne.io.Raw` and\n",
    "`~mne.Epochs` data aren't loaded into memory (they're accessed from disk only\n",
    "when needed), but here we'll force loading into memory using the\n",
    "``preload=True`` parameter so that we can see the results of the rejection\n",
    "criteria being applied:\n",
    "\n"
   ]
  },
  {
   "cell_type": "code",
   "execution_count": null,
   "metadata": {},
   "outputs": [],
   "source": [
    "epochs = mne.Epochs(\n",
    "    raw,\n",
    "    events,\n",
    "    event_id=event_dict,\n",
    "    tmin=-0.2,\n",
    "    tmax=0.5,\n",
    "    baseline=(-0.2,0.0),\n",
    "    reject=reject_criteria,\n",
    "    preload=True,\n",
    ")"
   ]
  },
  {
   "cell_type": "markdown",
   "metadata": {},
   "source": [
    "Next we'll pool across left/right stimulus presentations so we can compare\n",
    "auditory versus visual responses. To avoid biasing our signals to the left or\n",
    "right, we'll use `~mne.Epochs.equalize_event_counts` first to randomly sample\n",
    "epochs from each condition to match the number of epochs present in the\n",
    "condition with the fewest good epochs.\n",
    "\n"
   ]
  },
  {
   "cell_type": "code",
   "execution_count": null,
   "metadata": {},
   "outputs": [],
   "source": [
    "conds_we_care_about = [\"auditory/left\", \"auditory/right\", \"visual/left\", \"visual/right\"]\n",
    "epochs.equalize_event_counts(conds_we_care_about)  # this operates in-place\n",
    "aud_epochs = epochs[\"auditory\"]\n",
    "aud_left_epochs = epochs[\"auditory/left\"]\n",
    "aud_right_epochs = epochs[\"auditory/right\"]\n",
    "vis_epochs = epochs[\"visual\"]\n",
    "vis_left_epochs = epochs[\"visual/left\"]\n",
    "vis_right_epochs = epochs[\"visual/right\"]\n",
    "del raw, epochs  # free up memory"
   ]
  },
  {
   "cell_type": "markdown",
   "metadata": {},
   "source": [
    "Like `~mne.io.Raw` objects, `~mne.Epochs` objects also have a number of\n",
    "built-in plotting methods. One is `~mne.Epochs.plot_image`, which shows each\n",
    "epoch as one row of an image map, with color representing signal magnitude;\n",
    "the average evoked response and the sensor location are shown below the\n",
    "image:\n",
    "\n"
   ]
  },
  {
   "cell_type": "code",
   "execution_count": null,
   "metadata": {},
   "outputs": [],
   "source": [
    "aud_right_epochs.plot_image(picks=[\"EEG 021\"])"
   ]
  },
  {
   "cell_type": "markdown",
   "metadata": {},
   "source": [
    "<div class=\"alert alert-info\"><h4>Note</h4><p>Both `~mne.io.Raw` and `~mne.Epochs` objects have `~mne.Epochs.get_data`\n",
    "    methods that return the underlying data as a\n",
    "    :class:`NumPy array <numpy.ndarray>`. Both methods have a ``picks``\n",
    "    parameter for subselecting which channel(s) to return; ``raw.get_data()``\n",
    "    has additional parameters for restricting the time domain. The resulting\n",
    "    matrices have dimension ``(n_channels, n_times)`` for `~mne.io.Raw` and\n",
    "    ``(n_epochs, n_channels, n_times)`` for `~mne.Epochs`.</p></div>\n",
    "\n",
    "## Time-frequency analysis\n",
    "\n",
    "The :mod:`mne.time_frequency` submodule provides implementations of several\n",
    "algorithms to compute time-frequency representations, power spectral density,\n",
    "and cross-spectral density. Here, for example, we'll compute for the auditory\n",
    "epochs the induced power at different frequencies and times, using Morlet\n",
    "wavelets. On this dataset the result is not especially informative (it just\n",
    "shows the evoked \"auditory N100\" response); see `here\n",
    "<inter-trial-coherence>` for a more extended example on a dataset with richer\n",
    "frequency content.\n",
    "\n"
   ]
  },
  {
   "cell_type": "code",
   "execution_count": null,
   "metadata": {},
   "outputs": [],
   "source": [
    "frequencies = np.arange(7, 30, 3)\n",
    "power = mne.time_frequency.tfr_morlet(\n",
    "    aud_epochs, n_cycles=2, return_itc=False, freqs=frequencies, decim=3\n",
    ")\n",
    "power.plot([\"EEG 021\"])"
   ]
  },
  {
   "cell_type": "markdown",
   "metadata": {},
   "source": [
    "## Estimating evoked responses\n",
    "\n",
    "Now that we have our conditions in ``aud_epochs`` and ``vis_epochs``, we can\n",
    "get an estimate of evoked responses to auditory versus visual stimuli by\n",
    "averaging together the epochs in each condition. This is as simple as calling\n",
    "the `~mne.Epochs.average` method on the `~mne.Epochs` object, and then using\n",
    "a function from the :mod:`mne.viz` module to compare the global field power\n",
    "for each sensor type of the two `~mne.Evoked` objects:\n",
    "\n"
   ]
  },
  {
   "cell_type": "code",
   "execution_count": null,
   "metadata": {},
   "outputs": [],
   "source": [
    "aud_evoked = aud_epochs.average() # average over all auditory epochs.\n",
    "vis_evoked = vis_epochs.average() \n",
    "aud_left_evoked = aud_left_epochs.average() # average over all left auditory epochs.\n",
    "vis_left_evoked = vis_left_epochs.average()\n",
    "aud_right_evoked = aud_right_epochs.average() \n",
    "vis_right_evoked = vis_right_epochs.average()\n",
    "print(aud_evoked.info)\n",
    "mne.viz.plot_compare_evokeds(\n",
    "    dict(auditory=aud_evoked, visual=vis_evoked),\n",
    "    picks=[\"EEG 021\"],\n",
    "    legend=\"upper left\",\n",
    "    show_sensors=\"upper right\"\n",
    ")"
   ]
  },
  {
   "cell_type": "code",
   "execution_count": null,
   "metadata": {},
   "outputs": [],
   "source": [
    "mne.viz.plot_compare_evokeds(\n",
    "    dict(auditory_left=aud_left_evoked, auditory_right=aud_right_evoked),\n",
    "    picks=[\"EEG 021\"],\n",
    "    legend=\"upper left\",\n",
    "    show_sensors=\"upper right\",\n",
    ")"
   ]
  },
  {
   "cell_type": "code",
   "execution_count": null,
   "metadata": {},
   "outputs": [],
   "source": [
    "mne.viz.plot_compare_evokeds(\n",
    "    dict(visual_left=vis_left_evoked, visual_right=vis_right_evoked),\n",
    "    picks=[\"EEG 057\"],\n",
    "    legend=\"upper left\",\n",
    "    show_sensors=\"upper right\",\n",
    ")"
   ]
  },
  {
   "cell_type": "markdown",
   "metadata": {},
   "source": [
    "We can also get a more detailed view of each `~mne.Evoked` object using other\n",
    "plotting methods such as `~mne.Evoked.plot_joint` or\n",
    "`~mne.Evoked.plot_topomap`. Here we'll examine just the EEG channels, and see\n",
    "the classic auditory evoked N100-P200 pattern over dorso-frontal electrodes,\n",
    "then plot scalp topographies at some additional arbitrary times:\n",
    "\n"
   ]
  },
  {
   "cell_type": "code",
   "execution_count": null,
   "metadata": {},
   "outputs": [],
   "source": [
    "vis_left_evoked.plot_topomap(times=[0.0, 0.08, 0.1, 0.12, 0.2])"
   ]
  },
  {
   "cell_type": "code",
   "execution_count": null,
   "metadata": {},
   "outputs": [],
   "source": [
    "vis_right_evoked.plot_topomap(times=[0.0, 0.08, 0.1, 0.12, 0.2])"
   ]
  },
  {
   "cell_type": "markdown",
   "metadata": {},
   "source": [
    "Evoked objects can also be combined to show contrasts between conditions,\n",
    "using the `mne.combine_evoked` function. A simple difference can be\n",
    "generated by passing ``weights=[1, -1]``. We'll then plot the difference wave\n",
    "at each sensor using `~mne.Evoked.plot_topo`:\n",
    "\n"
   ]
  },
  {
   "cell_type": "code",
   "execution_count": null,
   "metadata": {},
   "outputs": [],
   "source": [
    "evoked_aud_diff = mne.combine_evoked([aud_left_evoked, aud_right_evoked], weights=[1, -1])\n",
    "evoked_aud_diff.plot_topo(color=\"r\", legend=False)"
   ]
  },
  {
   "cell_type": "code",
   "execution_count": null,
   "metadata": {},
   "outputs": [],
   "source": [
    "evoked_visual_diff = mne.combine_evoked([vis_left_evoked, vis_right_evoked], weights=[1, -1])\n",
    "evoked_visual_diff.plot_topo(color=\"r\", legend=False)"
   ]
  },
  {
   "cell_type": "code",
   "execution_count": null,
   "metadata": {},
   "outputs": [],
   "source": [
    "copy_vis_right_evoked=vis_right_evoked.copy()\n",
    "copy_vis_right_evoked.filter(8,12).plot_topomap(times=[0.0, 0.08, 0.1, 0.12, 0.2])\n",
    "print(copy_vis_right_evoked.info)\n",
    "# observe the .filter changes the copy_vis_right_evoked object, it works in-place. So the original data is lost.\n",
    "# That is the reason we made a copy of vis_right_evoked"
   ]
  },
  {
   "cell_type": "code",
   "execution_count": null,
   "metadata": {},
   "outputs": [],
   "source": []
  }
 ],
 "metadata": {
  "kernelspec": {
   "display_name": "Python 3 (ipykernel)",
   "language": "python",
   "name": "python3"
  },
  "language_info": {
   "codemirror_mode": {
    "name": "ipython",
    "version": 3
   },
   "file_extension": ".py",
   "mimetype": "text/x-python",
   "name": "python",
   "nbconvert_exporter": "python",
   "pygments_lexer": "ipython3",
   "version": "3.9.15"
  }
 },
 "nbformat": 4,
 "nbformat_minor": 1
}
